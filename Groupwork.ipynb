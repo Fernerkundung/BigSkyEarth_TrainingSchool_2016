{
 "cells": [
  {
   "cell_type": "markdown",
   "metadata": {},
   "source": [
    "# Groupwork BigSkyEarth\n",
    "## Feature Selection Group\n",
    "\n",
    "Feature selection from SDSS transients and merced benchmark dataset under the leadership of **Brian Mac Namee**."
   ]
  },
  {
   "cell_type": "code",
   "execution_count": 1,
   "metadata": {
    "collapsed": true
   },
   "outputs": [],
   "source": [
    "%matplotlib inline\n",
    "import matplotlib.pyplot as plt\n",
    "\n",
    "import pandas as pd\n",
    "import numpy as np"
   ]
  },
  {
   "cell_type": "markdown",
   "metadata": {},
   "source": [
    "Import the dataset."
   ]
  },
  {
   "cell_type": "code",
   "execution_count": 2,
   "metadata": {
    "collapsed": false
   },
   "outputs": [],
   "source": [
    "df = pd.read_csv(\"data/resultNoMissingProcFull_small_strat_0.01_galaxy_class_ext_columnsDropped.csv\")"
   ]
  },
  {
   "cell_type": "code",
   "execution_count": 27,
   "metadata": {
    "collapsed": false
   },
   "outputs": [
    {
     "name": "stdout",
     "output_type": "stream",
     "text": [
      "elliptical     4505\n",
      "spiral_edge    1054\n",
      "spiral_acw      436\n",
      "spiral_cw       414\n",
      "other           152\n",
      "Name: galaxy_class_ext, dtype: int64\n"
     ]
    },
    {
     "data": {
      "image/png": "[encoded data removed]",
      "text/plain": [
       "<matplotlib.figure.Figure at 0xb022b0>"
      ]
     },
     "metadata": {},
     "output_type": "display_data"
    }
   ],
   "source": [
    "# class distribution\n",
    "df[\"galaxy_class_ext\"].value_counts().plot(kind=\"barh\")\n",
    "print(df[\"galaxy_class_ext\"].value_counts())"
   ]
  },
  {
   "cell_type": "code",
   "execution_count": 4,
   "metadata": {
    "collapsed": false,
    "scrolled": true
   },
   "outputs": [
    {
     "data": {
      "text/html": [
       "<div>\n",
       "<table border=\"1\" class=\"dataframe\">\n",
       "  <thead>\n",
       "    <tr style=\"text-align: right;\">\n",
       "      <th></th>\n",
       "      <th>objID</th>\n",
       "      <th>insideMask</th>\n",
       "      <th>flags</th>\n",
       "      <th>skyIvar_u</th>\n",
       "      <th>skyIvar_g</th>\n",
       "      <th>skyIvar_r</th>\n",
       "      <th>skyIvar_i</th>\n",
       "      <th>skyIvar_z</th>\n",
       "      <th>psfMag_u</th>\n",
       "      <th>psfMag_g</th>\n",
       "      <th>...</th>\n",
       "      <th>aE_i</th>\n",
       "      <th>modelMagDiff_u_g</th>\n",
       "      <th>modelMagDiff_g_r</th>\n",
       "      <th>modelMagDiff_r_i</th>\n",
       "      <th>modelMagDiff_i_z</th>\n",
       "      <th>petroMagDiff_g_r</th>\n",
       "      <th>petroMagDiff_r_i</th>\n",
       "      <th>petroMagDiff_i_z</th>\n",
       "      <th>galaxy_class_ext</th>\n",
       "      <th>ID_unit</th>\n",
       "    </tr>\n",
       "  </thead>\n",
       "  <tbody>\n",
       "    <tr>\n",
       "      <th>0</th>\n",
       "      <td>1237645942904520960</td>\n",
       "      <td>0</td>\n",
       "      <td>281543964623616</td>\n",
       "      <td>1591.63745</td>\n",
       "      <td>7138.49561</td>\n",
       "      <td>3908.54077</td>\n",
       "      <td>2128.97314</td>\n",
       "      <td>58.638790</td>\n",
       "      <td>22.475695</td>\n",
       "      <td>20.426727</td>\n",
       "      <td>...</td>\n",
       "      <td>0.132589</td>\n",
       "      <td>2.275738</td>\n",
       "      <td>1.424240</td>\n",
       "      <td>0.554365</td>\n",
       "      <td>0.349043</td>\n",
       "      <td>1.344114</td>\n",
       "      <td>0.584330</td>\n",
       "      <td>0.391487</td>\n",
       "      <td>elliptical</td>\n",
       "      <td>1</td>\n",
       "    </tr>\n",
       "    <tr>\n",
       "      <th>1</th>\n",
       "      <td>1237645942905635072</td>\n",
       "      <td>0</td>\n",
       "      <td>35287719874904</td>\n",
       "      <td>1557.04480</td>\n",
       "      <td>6503.41016</td>\n",
       "      <td>2508.35767</td>\n",
       "      <td>1205.06287</td>\n",
       "      <td>45.111614</td>\n",
       "      <td>21.932791</td>\n",
       "      <td>19.775082</td>\n",
       "      <td>...</td>\n",
       "      <td>0.048125</td>\n",
       "      <td>2.073314</td>\n",
       "      <td>1.342137</td>\n",
       "      <td>0.576578</td>\n",
       "      <td>0.429380</td>\n",
       "      <td>1.310881</td>\n",
       "      <td>0.589006</td>\n",
       "      <td>0.417557</td>\n",
       "      <td>elliptical</td>\n",
       "      <td>5</td>\n",
       "    </tr>\n",
       "  </tbody>\n",
       "</table>\n",
       "<p>2 rows × 334 columns</p>\n",
       "</div>"
      ],
      "text/plain": [
       "                 objID  insideMask            flags   skyIvar_u   skyIvar_g  \\\n",
       "0  1237645942904520960           0  281543964623616  1591.63745  7138.49561   \n",
       "1  1237645942905635072           0   35287719874904  1557.04480  6503.41016   \n",
       "\n",
       "    skyIvar_r   skyIvar_i  skyIvar_z   psfMag_u   psfMag_g   ...         aE_i  \\\n",
       "0  3908.54077  2128.97314  58.638790  22.475695  20.426727   ...     0.132589   \n",
       "1  2508.35767  1205.06287  45.111614  21.932791  19.775082   ...     0.048125   \n",
       "\n",
       "   modelMagDiff_u_g  modelMagDiff_g_r  modelMagDiff_r_i  modelMagDiff_i_z  \\\n",
       "0          2.275738          1.424240          0.554365          0.349043   \n",
       "1          2.073314          1.342137          0.576578          0.429380   \n",
       "\n",
       "   petroMagDiff_g_r  petroMagDiff_r_i  petroMagDiff_i_z  galaxy_class_ext  \\\n",
       "0          1.344114          0.584330          0.391487        elliptical   \n",
       "1          1.310881          0.589006          0.417557        elliptical   \n",
       "\n",
       "   ID_unit  \n",
       "0        1  \n",
       "1        5  \n",
       "\n",
       "[2 rows x 334 columns]"
      ]
     },
     "execution_count": 4,
     "metadata": {},
     "output_type": "execute_result"
    }
   ],
   "source": [
    "df.head(2)"
   ]
  },
  {
   "cell_type": "markdown",
   "metadata": {},
   "source": [
    "### First Approach\n",
    "\n",
    "Import the data, calculate difference features. Use a regular Random Forest on it."
   ]
  },
  {
   "cell_type": "code",
   "execution_count": 5,
   "metadata": {
    "collapsed": false
   },
   "outputs": [],
   "source": [
    "feat = pd.DataFrame()\n",
    "feat[\"objID\"] = df[\"objID\"]\n",
    "feat[\"galaxy_class_ext\"] = df[\"galaxy_class_ext\"]\n",
    "feat[\"psfMag_u\"] = df[\"psfMag_u\"]\n",
    "feat[\"psfMag_g\"] = df[\"psfMag_g\"]\n",
    "feat[\"psfMag_i\"] = df[\"psfMag_i\"]\n",
    "feat[\"psfMag_r\"] = df[\"psfMag_r\"]\n",
    "feat[\"psfMag_z\"] = df[\"psfMag_z\"]\n",
    "feat[\"ug\"] = df[\"psfMag_u\"] - df[\"psfMag_g\"]\n",
    "feat[\"gr\"] = df[\"psfMag_g\"] - df[\"psfMag_r\"]\n",
    "feat[\"ri\"] = df[\"psfMag_r\"] - df[\"psfMag_i\"]\n",
    "feat[\"iz\"] = df[\"psfMag_i\"] - df[\"psfMag_z\"]\n",
    "feat[\"orig_ug\"] = df[\"modelMagDiff_u_g\"]\n",
    "feat[\"orig_gr\"] = df[\"modelMagDiff_g_r\"]\n",
    "feat[\"orig_ri\"] = df[\"modelMagDiff_r_i\"]\n",
    "feat[\"orig_iz\"] = df[\"modelMagDiff_i_z\"]"
   ]
  },
  {
   "cell_type": "code",
   "execution_count": 6,
   "metadata": {
    "collapsed": false
   },
   "outputs": [
    {
     "data": {
      "text/html": [
       "<div>\n",
       "<table border=\"1\" class=\"dataframe\">\n",
       "  <thead>\n",
       "    <tr style=\"text-align: right;\">\n",
       "      <th></th>\n",
       "      <th>objID</th>\n",
       "      <th>galaxy_class_ext</th>\n",
       "      <th>psfMag_u</th>\n",
       "      <th>psfMag_g</th>\n",
       "      <th>psfMag_i</th>\n",
       "      <th>psfMag_r</th>\n",
       "      <th>psfMag_z</th>\n",
       "      <th>ug</th>\n",
       "      <th>gr</th>\n",
       "      <th>ri</th>\n",
       "      <th>iz</th>\n",
       "      <th>orig_ug</th>\n",
       "      <th>orig_gr</th>\n",
       "      <th>orig_ri</th>\n",
       "      <th>orig_iz</th>\n",
       "    </tr>\n",
       "  </thead>\n",
       "  <tbody>\n",
       "    <tr>\n",
       "      <th>0</th>\n",
       "      <td>1237645942904520960</td>\n",
       "      <td>elliptical</td>\n",
       "      <td>22.475695</td>\n",
       "      <td>20.426727</td>\n",
       "      <td>18.562119</td>\n",
       "      <td>19.087791</td>\n",
       "      <td>18.071409</td>\n",
       "      <td>2.048968</td>\n",
       "      <td>1.338936</td>\n",
       "      <td>0.525672</td>\n",
       "      <td>0.490710</td>\n",
       "      <td>2.275738</td>\n",
       "      <td>1.424240</td>\n",
       "      <td>0.554365</td>\n",
       "      <td>0.349043</td>\n",
       "    </tr>\n",
       "    <tr>\n",
       "      <th>1</th>\n",
       "      <td>1237645942905635072</td>\n",
       "      <td>elliptical</td>\n",
       "      <td>21.932791</td>\n",
       "      <td>19.775082</td>\n",
       "      <td>18.001966</td>\n",
       "      <td>18.636234</td>\n",
       "      <td>17.494308</td>\n",
       "      <td>2.157709</td>\n",
       "      <td>1.138848</td>\n",
       "      <td>0.634268</td>\n",
       "      <td>0.507658</td>\n",
       "      <td>2.073314</td>\n",
       "      <td>1.342137</td>\n",
       "      <td>0.576578</td>\n",
       "      <td>0.429380</td>\n",
       "    </tr>\n",
       "  </tbody>\n",
       "</table>\n",
       "</div>"
      ],
      "text/plain": [
       "                 objID galaxy_class_ext   psfMag_u   psfMag_g   psfMag_i  \\\n",
       "0  1237645942904520960       elliptical  22.475695  20.426727  18.562119   \n",
       "1  1237645942905635072       elliptical  21.932791  19.775082  18.001966   \n",
       "\n",
       "    psfMag_r   psfMag_z        ug        gr        ri        iz   orig_ug  \\\n",
       "0  19.087791  18.071409  2.048968  1.338936  0.525672  0.490710  2.275738   \n",
       "1  18.636234  17.494308  2.157709  1.138848  0.634268  0.507658  2.073314   \n",
       "\n",
       "    orig_gr   orig_ri   orig_iz  \n",
       "0  1.424240  0.554365  0.349043  \n",
       "1  1.342137  0.576578  0.429380  "
      ]
     },
     "execution_count": 6,
     "metadata": {},
     "output_type": "execute_result"
    }
   ],
   "source": [
    "feat.head(2)"
   ]
  },
  {
   "cell_type": "code",
   "execution_count": 7,
   "metadata": {
    "collapsed": false
   },
   "outputs": [
    {
     "data": {
      "text/html": [
       "<div>\n",
       "<table border=\"1\" class=\"dataframe\">\n",
       "  <thead>\n",
       "    <tr style=\"text-align: right;\">\n",
       "      <th></th>\n",
       "      <th>objID</th>\n",
       "      <th>galaxy_class_ext</th>\n",
       "      <th>psfMag_u</th>\n",
       "      <th>psfMag_g</th>\n",
       "      <th>psfMag_i</th>\n",
       "      <th>psfMag_r</th>\n",
       "      <th>psfMag_z</th>\n",
       "      <th>ug</th>\n",
       "      <th>gr</th>\n",
       "      <th>ri</th>\n",
       "      <th>iz</th>\n",
       "      <th>orig_ug</th>\n",
       "      <th>orig_gr</th>\n",
       "      <th>orig_ri</th>\n",
       "      <th>orig_iz</th>\n",
       "    </tr>\n",
       "  </thead>\n",
       "  <tbody>\n",
       "    <tr>\n",
       "      <th>0</th>\n",
       "      <td>1237645942904520960</td>\n",
       "      <td>elliptical</td>\n",
       "      <td>22.475695</td>\n",
       "      <td>20.426727</td>\n",
       "      <td>18.562119</td>\n",
       "      <td>19.087791</td>\n",
       "      <td>18.071409</td>\n",
       "      <td>2.048968</td>\n",
       "      <td>1.338936</td>\n",
       "      <td>0.525672</td>\n",
       "      <td>0.490710</td>\n",
       "      <td>2.275738</td>\n",
       "      <td>1.424240</td>\n",
       "      <td>0.554365</td>\n",
       "      <td>0.349043</td>\n",
       "    </tr>\n",
       "    <tr>\n",
       "      <th>1</th>\n",
       "      <td>1237645942905635072</td>\n",
       "      <td>elliptical</td>\n",
       "      <td>21.932791</td>\n",
       "      <td>19.775082</td>\n",
       "      <td>18.001966</td>\n",
       "      <td>18.636234</td>\n",
       "      <td>17.494308</td>\n",
       "      <td>2.157709</td>\n",
       "      <td>1.138848</td>\n",
       "      <td>0.634268</td>\n",
       "      <td>0.507658</td>\n",
       "      <td>2.073314</td>\n",
       "      <td>1.342137</td>\n",
       "      <td>0.576578</td>\n",
       "      <td>0.429380</td>\n",
       "    </tr>\n",
       "  </tbody>\n",
       "</table>\n",
       "</div>"
      ],
      "text/plain": [
       "                 objID galaxy_class_ext   psfMag_u   psfMag_g   psfMag_i  \\\n",
       "0  1237645942904520960       elliptical  22.475695  20.426727  18.562119   \n",
       "1  1237645942905635072       elliptical  21.932791  19.775082  18.001966   \n",
       "\n",
       "    psfMag_r   psfMag_z        ug        gr        ri        iz   orig_ug  \\\n",
       "0  19.087791  18.071409  2.048968  1.338936  0.525672  0.490710  2.275738   \n",
       "1  18.636234  17.494308  2.157709  1.138848  0.634268  0.507658  2.073314   \n",
       "\n",
       "    orig_gr   orig_ri   orig_iz  \n",
       "0  1.424240  0.554365  0.349043  \n",
       "1  1.342137  0.576578  0.429380  "
      ]
     },
     "execution_count": 7,
     "metadata": {},
     "output_type": "execute_result"
    }
   ],
   "source": [
    "feat[feat[\"galaxy_class_ext\"] == \"elliptical\"].head(2)"
   ]
  },
  {
   "cell_type": "code",
   "execution_count": 8,
   "metadata": {
    "collapsed": true
   },
   "outputs": [],
   "source": [
    "from sklearn.cross_validation import train_test_split"
   ]
  },
  {
   "cell_type": "code",
   "execution_count": 9,
   "metadata": {
    "collapsed": false
   },
   "outputs": [],
   "source": [
    "train, test = train_test_split(feat, test_size=0.3, stratify=feat[\"galaxy_class_ext\"])"
   ]
  },
  {
   "cell_type": "code",
   "execution_count": 25,
   "metadata": {
    "collapsed": false
   },
   "outputs": [
    {
     "data": {
      "text/plain": [
       "elliptical     3153\n",
       "spiral_edge     738\n",
       "spiral_acw      305\n",
       "spiral_cw       290\n",
       "other           106\n",
       "Name: galaxy_class_ext, dtype: int64"
      ]
     },
     "execution_count": 25,
     "metadata": {},
     "output_type": "execute_result"
    }
   ],
   "source": [
    "train[\"galaxy_class_ext\"].value_counts()"
   ]
  },
  {
   "cell_type": "code",
   "execution_count": 11,
   "metadata": {
    "collapsed": false
   },
   "outputs": [
    {
     "data": {
      "text/plain": [
       "elliptical     1352\n",
       "spiral_edge     316\n",
       "spiral_acw      131\n",
       "spiral_cw       124\n",
       "other            46\n",
       "Name: galaxy_class_ext, dtype: int64"
      ]
     },
     "execution_count": 11,
     "metadata": {},
     "output_type": "execute_result"
    }
   ],
   "source": [
    "test[\"galaxy_class_ext\"].value_counts()"
   ]
  },
  {
   "cell_type": "code",
   "execution_count": 12,
   "metadata": {
    "collapsed": true
   },
   "outputs": [],
   "source": [
    "from sklearn.ensemble import RandomForestClassifier"
   ]
  },
  {
   "cell_type": "code",
   "execution_count": 13,
   "metadata": {
    "collapsed": true
   },
   "outputs": [],
   "source": [
    "rf = RandomForestClassifier(n_estimators=300, min_samples_split=2)"
   ]
  },
  {
   "cell_type": "code",
   "execution_count": 14,
   "metadata": {
    "collapsed": false
   },
   "outputs": [
    {
     "data": {
      "text/plain": [
       "RandomForestClassifier(bootstrap=True, class_weight=None, criterion='gini',\n",
       "            max_depth=None, max_features='auto', max_leaf_nodes=None,\n",
       "            min_samples_leaf=1, min_samples_split=2,\n",
       "            min_weight_fraction_leaf=0.0, n_estimators=300, n_jobs=1,\n",
       "            oob_score=False, random_state=None, verbose=0,\n",
       "            warm_start=False)"
      ]
     },
     "execution_count": 14,
     "metadata": {},
     "output_type": "execute_result"
    }
   ],
   "source": [
    "rf.fit(train.iloc[:, 2:], train.iloc[:, 1])"
   ]
  },
  {
   "cell_type": "code",
   "execution_count": 15,
   "metadata": {
    "collapsed": true
   },
   "outputs": [],
   "source": [
    "from sklearn.metrics import classification_report, confusion_matrix"
   ]
  },
  {
   "cell_type": "code",
   "execution_count": 16,
   "metadata": {
    "collapsed": false
   },
   "outputs": [
    {
     "name": "stdout",
     "output_type": "stream",
     "text": [
      "             precision    recall  f1-score   support\n",
      "\n",
      " elliptical       0.73      0.95      0.83      1352\n",
      "      other       0.00      0.00      0.00        46\n",
      " spiral_acw       0.24      0.03      0.05       131\n",
      "  spiral_cw       0.25      0.02      0.04       124\n",
      "spiral_edge       0.52      0.31      0.39       316\n",
      "\n",
      "avg / total       0.62      0.71      0.64      1969\n",
      "\n"
     ]
    }
   ],
   "source": [
    "print(classification_report(test.iloc[:, 1], rf.predict(test.iloc[:, 2:])))"
   ]
  },
  {
   "cell_type": "code",
   "execution_count": 17,
   "metadata": {
    "collapsed": false,
    "scrolled": true
   },
   "outputs": [
    {
     "data": {
      "text/plain": [
       "array([[1285,    0,    5,    5,   57],\n",
       "       [  42,    0,    0,    0,    4],\n",
       "       [ 105,    1,    4,    3,   18],\n",
       "       [ 101,    0,    8,    3,   12],\n",
       "       [ 217,    0,    0,    1,   98]])"
      ]
     },
     "execution_count": 17,
     "metadata": {},
     "output_type": "execute_result"
    }
   ],
   "source": [
    "confusion_matrix(test.iloc[:, 1], rf.predict(test.iloc[:, 2:]))"
   ]
  },
  {
   "cell_type": "markdown",
   "metadata": {},
   "source": [
    "### Second Approach\n",
    "\n",
    "Use even more features and try to improve the Random Forest parameters. Basically keep everything that might even be remotely useful. Drop everything else."
   ]
  },
  {
   "cell_type": "code",
   "execution_count": 122,
   "metadata": {
    "collapsed": false
   },
   "outputs": [],
   "source": [
    "df = pd.read_csv(\"data/resultNoMissingProcFull_small_strat_0.01_galaxy_class_ext_columnsDropped.csv\")"
   ]
  },
  {
   "cell_type": "code",
   "execution_count": 185,
   "metadata": {
    "collapsed": false
   },
   "outputs": [
    {
     "data": {
      "text/plain": [
       "(6561, 334)"
      ]
     },
     "execution_count": 185,
     "metadata": {},
     "output_type": "execute_result"
    }
   ],
   "source": [
    "df.shape"
   ]
  },
  {
   "cell_type": "markdown",
   "metadata": {},
   "source": [
    "~~Assumption: The elliptical class is overrepresented, so we remove 50% of it randomly.~~\n",
    "\n",
    "No improvement by undersampling."
   ]
  },
  {
   "cell_type": "code",
   "execution_count": 176,
   "metadata": {
    "collapsed": false
   },
   "outputs": [
    {
     "data": {
      "text/plain": [
       "elliptical     4505\n",
       "spiral_edge    1054\n",
       "spiral_acw      436\n",
       "spiral_cw       414\n",
       "other           152\n",
       "Name: galaxy_class_ext, dtype: int64"
      ]
     },
     "execution_count": 176,
     "metadata": {},
     "output_type": "execute_result"
    }
   ],
   "source": [
    "df[\"galaxy_class_ext\"].value_counts()"
   ]
  },
  {
   "cell_type": "code",
   "execution_count": 177,
   "metadata": {
    "collapsed": false
   },
   "outputs": [],
   "source": [
    "features = df\n",
    "# undersample elliptical and edge to get even class distribution\n",
    "# features = features.drop(df[df[\"galaxy_class_ext\"] == \"elliptical\"].sample(frac=0.8).index)  # undersample class elliptical by 50%\n",
    "# features = features.drop(df[df[\"galaxy_class_ext\"] == \"spiral_edge\"].sample(frac=0.5).index)  # undersample class elliptical by 50%\n",
    "# features = df # take all w/o dropping elliptical\n",
    "labels = features[\"galaxy_class_ext\"]\n",
    "features = features.drop(\n",
    "    [\"objID\", \"insideMask\", \"flags\",\"galaxy_class\", \"galaxy_class_clean\", \"galaxy_class_2\", \"galaxy_class_ext\",\n",
    "     \"ra.1\", \"dec.1\",\"ID_unit\"],\n",
    "    1)"
   ]
  },
  {
   "cell_type": "code",
   "execution_count": 181,
   "metadata": {
    "collapsed": false,
    "scrolled": false
   },
   "outputs": [],
   "source": [
    "# split 70/30 and stratify by class\n",
    "X_train, X_test, y_train, y_test = train_test_split(features, labels, test_size=0.3, stratify=labels)"
   ]
  },
  {
   "cell_type": "code",
   "execution_count": 182,
   "metadata": {
    "collapsed": false
   },
   "outputs": [
    {
     "data": {
      "text/plain": [
       "RandomForestClassifier(bootstrap=True, class_weight=None, criterion='gini',\n",
       "            max_depth=None, max_features='auto', max_leaf_nodes=None,\n",
       "            min_samples_leaf=1, min_samples_split=5,\n",
       "            min_weight_fraction_leaf=0.0, n_estimators=300, n_jobs=-1,\n",
       "            oob_score=False, random_state=None, verbose=0,\n",
       "            warm_start=False)"
      ]
     },
     "execution_count": 182,
     "metadata": {},
     "output_type": "execute_result"
    }
   ],
   "source": [
    "# train and predict a RandomForest classifier\n",
    "rf = RandomForestClassifier(n_estimators=300, n_jobs=-1, min_samples_split=5)\n",
    "rf.fit(X_train, y_train)"
   ]
  },
  {
   "cell_type": "code",
   "execution_count": 183,
   "metadata": {
    "collapsed": false
   },
   "outputs": [
    {
     "name": "stdout",
     "output_type": "stream",
     "text": [
      "             precision    recall  f1-score   support\n",
      "\n",
      " elliptical       0.84      0.95      0.90      1352\n",
      "      other       0.00      0.00      0.00        46\n",
      " spiral_acw       0.34      0.19      0.24       131\n",
      "  spiral_cw       0.48      0.27      0.34       124\n",
      "spiral_edge       0.74      0.70      0.72       316\n",
      "\n",
      "avg / total       0.75      0.80      0.77      1969\n",
      "\n"
     ]
    },
    {
     "name": "stderr",
     "output_type": "stream",
     "text": [
      "C:\\miniconda\\envs\\py34\\lib\\site-packages\\sklearn\\metrics\\classification.py:1074: UndefinedMetricWarning: Precision and F-score are ill-defined and being set to 0.0 in labels with no predicted samples.\n",
      "  'precision', 'predicted', average, warn_for)\n"
     ]
    }
   ],
   "source": [
    "print(classification_report(y_test, rf.predict(X_test)))"
   ]
  },
  {
   "cell_type": "code",
   "execution_count": 171,
   "metadata": {
    "collapsed": false
   },
   "outputs": [
    {
     "name": "stdout",
     "output_type": "stream",
     "text": [
      "Normalized confusion matrix\n",
      "[[ 0.96  0.    0.01  0.    0.03]\n",
      " [ 0.85  0.02  0.04  0.02  0.07]\n",
      " [ 0.6   0.    0.19  0.11  0.1 ]\n",
      " [ 0.5   0.    0.28  0.15  0.06]\n",
      " [ 0.25  0.    0.03  0.02  0.71]]\n"
     ]
    }
   ],
   "source": [
    "# confusion matrix\n",
    "cm = confusion_matrix(y_test, rf.predict(X_test))\n",
    "# Normalize the confusion matrix by row (i.e by the number of samples\n",
    "# in each class)\n",
    "cm_normalized = cm.astype('float') / cm.sum(axis=1)[:, np.newaxis]\n",
    "print('Normalized confusion matrix')\n",
    "print(cm_normalized)"
   ]
  },
  {
   "cell_type": "code",
   "execution_count": 172,
   "metadata": {
    "collapsed": false
   },
   "outputs": [
    {
     "data": {
      "text/plain": [
       "0.79481970543423053"
      ]
     },
     "execution_count": 172,
     "metadata": {},
     "output_type": "execute_result"
    }
   ],
   "source": [
    "from sklearn.metrics import accuracy_score\n",
    "accuracy_score(y_test, rf.predict(X_test))"
   ]
  },
  {
   "cell_type": "code",
   "execution_count": 173,
   "metadata": {
    "collapsed": false
   },
   "outputs": [
    {
     "data": {
      "text/plain": [
       "elliptical     4505\n",
       "spiral_edge    1054\n",
       "spiral_acw      436\n",
       "spiral_cw       414\n",
       "other           152\n",
       "Name: galaxy_class_ext, dtype: int64"
      ]
     },
     "execution_count": 173,
     "metadata": {},
     "output_type": "execute_result"
    }
   ],
   "source": [
    "labels.value_counts()"
   ]
  },
  {
   "cell_type": "code",
   "execution_count": 186,
   "metadata": {
    "collapsed": false
   },
   "outputs": [
    {
     "name": "stdout",
     "output_type": "stream",
     "text": [
      "Normalized confusion matrix\n",
      "[[ 0.95  0.    0.01  0.    0.04]\n",
      " [ 0.85  0.    0.02  0.04  0.09]\n",
      " [ 0.53  0.    0.19  0.18  0.1 ]\n",
      " [ 0.42  0.    0.23  0.27  0.08]\n",
      " [ 0.25  0.    0.03  0.01  0.7 ]]\n"
     ]
    },
    {
     "data": {
      "image/png": "[encoded data removed]",
      "text/plain": [
       "<matplotlib.figure.Figure at 0x106016d8>"
      ]
     },
     "metadata": {},
     "output_type": "display_data"
    }
   ],
   "source": [
    "def plot_confusion_matrix(cm, title='Confusion matrix', cmap=plt.cm.Blues):\n",
    "    plt.imshow(cm, interpolation='nearest', cmap=cmap)\n",
    "    plt.title(title)\n",
    "    plt.colorbar()\n",
    "    tick_marks = np.arange(5)\n",
    "    plt.xticks(tick_marks, [\"elliptical\", \"other\", \"spiral_acw\", \"spiral_cw\", \"spiral_edge\"], rotation=90)\n",
    "    plt.yticks(tick_marks, [\"elliptical\", \"other\", \"spiral_acw\", \"spiral_cw\", \"spiral_edge\"])\n",
    "    plt.tight_layout()\n",
    "    plt.ylabel('True label')\n",
    "    plt.xlabel('Predicted label')\n",
    "\n",
    "\n",
    "# compute and plot confusion matrix\n",
    "cm = confusion_matrix(y_test, rf.predict(X_test))\n",
    "# Normalize the confusion matrix by row (i.e by the number of samples\n",
    "# in each class)\n",
    "cm_normalized = cm.astype('float') / cm.sum(axis=1)[:, np.newaxis]\n",
    "print('Normalized confusion matrix')\n",
    "print(cm_normalized)\n",
    "plt.figure(figsize=(7,7))\n",
    "plot_confusion_matrix(cm_normalized, title='Normalized confusion matrix')\n",
    "\n",
    "plt.show()"
   ]
  }
 ],
 "metadata": {
  "kernelspec": {
   "display_name": "Python 3",
   "language": "python",
   "name": "python3"
  },
  "language_info": {
   "codemirror_mode": {
    "name": "ipython",
    "version": 3
   },
   "file_extension": ".py",
   "mimetype": "text/x-python",
   "name": "python",
   "nbconvert_exporter": "python",
   "pygments_lexer": "ipython3",
   "version": "3.4.4"
  }
 },
 "nbformat": 4,
 "nbformat_minor": 0
}
